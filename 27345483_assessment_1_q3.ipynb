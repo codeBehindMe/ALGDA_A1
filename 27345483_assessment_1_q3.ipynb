{
 "cells": [
  {
   "cell_type": "markdown",
   "metadata": {},
   "source": [
    "# Assignment 1\n",
    "## Part B - Prediction Uncertainty with Bootstrapping\n",
    "### Question 3\n",
    "#### I.\n",
    " Modify the code in Activity 2 to handle bootstrapping for KNN regression"
   ]
  },
  {
   "cell_type": "markdown",
   "metadata": {},
   "source": [
    "The only thing that needs to be change to handle KNN regression in the bootstrapper code is to change the classifier error to a RMSE error return function. Since sampling and all other bootstrap steps are the same.\n",
    "I will use my own functions to something similar to what is shown in Activity 2. \n"
   ]
  },
  {
   "cell_type": "code",
   "execution_count": 1,
   "metadata": {
    "collapsed": false
   },
   "outputs": [
    {
     "name": "stderr",
     "output_type": "stream",
     "text": [
      "Loading required package: ggplot2\n",
      "Loading required package: reshape2\n"
     ]
    }
   ],
   "source": [
    "# Dependencies\n",
    "require(ggplot2)\n",
    "require(reshape2)\n",
    "\n",
    "# Utilities\n",
    "udf_utils_castFlexibleDataFrame <- function(object) {\n",
    "\n",
    "    # Utility function that coerces vectors, dataframes, matrices and other enumerable types to data frame.\n",
    "\n",
    "    cNames_ <- colnames(object) # get object column names.\n",
    "    dfObj_ <- as.data.frame(object) # cast object as data frame.\n",
    "\n",
    "    if (is.null(cNames_)) {\n",
    "        # if no column names assign generic.\n",
    "        for (i in 1:length(dfObj_)) {\n",
    "            colnames(dfObj_)[i] <- paste0(\"c\", i)\n",
    "        }\n",
    "    }\n",
    "    return(dfObj_)\n",
    "}\n",
    "\n",
    "udf_utils_rootMeanSquareError <- function(predVals, actVals) {\n",
    "\n",
    "    # this function returns teh root mean square error of predicted values and actual values. \n",
    "\n",
    "    predVals <- udf_utils_castFlexibleDataFrame(predVals) \n",
    "    actVals <- udf_utils_castFlexibleDataFrame(actVals)\n",
    "\n",
    "    if (nrow(predVals) != nrow(actVals)) {\n",
    "        stop(\"differring predictions and actual values.\")\n",
    "    }\n",
    "\n",
    "    eW_ <- (sum((predVals - actVals) ^ 2)) / 2\n",
    "\n",
    "    eRMS_ <- sqrt(2 * (eW_) / nrow(predVals))\n",
    "\n",
    "    return(eRMS_)\n",
    "\n",
    "}\n",
    "\n",
    "udf_utils_checkLabelsObj <- function(labels) {\n",
    "\n",
    "    # utility function for checking label array object for comformance.\n",
    "\n",
    "    # for the regresser, we are looking for numeric types.\n",
    "    # handle data frames.\n",
    "    if (class(labels) == \"data.frame\") {\n",
    "        if (ncol(labels) == 1) {\n",
    "            # if dataframe object is passed, and has the length of one column, try cast as numeric.\n",
    "            # any non numeric characters will be forced NA. Error out.\n",
    "            suppressWarnings(labels <- as.numeric(labels))\n",
    "\n",
    "            # atthe risk of falling through many if conditions\n",
    "            if (sum(is.na(labels)) > 0) {\n",
    "                stop(\"Non numeric values found in label set. Non numerics cannot be implemented in regressor.\")\n",
    "            }\n",
    "        } else {\n",
    "            stop(\"labels must be a one dimensional array!\")\n",
    "        }\n",
    "    } else {\n",
    "        # if not data frame, \n",
    "        suppressWarnings(labels <- as.numeric(labels))\n",
    "\n",
    "        if (sum(is.na(labels)) > 0) {\n",
    "            stop(\"Non numeric values found in label set. Non numerics cannot be implemented in regressor.\")\n",
    "        }\n",
    "    }\n",
    "\n",
    "    return(labels)\n",
    "}\n",
    "\n",
    "udf_knn <- function(trainingSet, trainingLabels, testSet, K = 3) {\n",
    "\n",
    "    #store Lengths\n",
    "    lnTrDt <- nrow(as.data.frame(trainingSet)) # training data\n",
    "    lnTrLb <- nrow(as.data.frame(trainingLabels)) # training label\n",
    "    lnTsDt <- nrow(as.data.frame(testSet)) # test set data\n",
    "\n",
    "    # convert the passed in objects to data frames.\n",
    "    trainingSet <- udf_utils_castFlexibleDataFrame(trainingSet)\n",
    "    testSet <- udf_utils_castFlexibleDataFrame(testSet)\n",
    "\n",
    "    # check labels object conforms or force conform.\n",
    "    trainingLabels <- udf_utils_checkLabelsObj(trainingLabels)\n",
    "\n",
    "\n",
    "    # quick check to see nrows match\n",
    "    if (lnTrDt != lnTrLb) {\n",
    "        stop(\"lengths of training and test sets do not match!\")\n",
    "    }\n",
    "   \n",
    "    # calc distance matrix\n",
    "    \n",
    "    # subset the test set data points and their distance to the training set data points.\n",
    "    dist_ <- as.matrix(dist(rbind(testSet, trainingSet)))[1:lnTsDt, (lnTsDt + 1):(lnTsDt + lnTrDt)] \n",
    "\n",
    "    ## for each test sample...\n",
    "    pred_ <- as.numeric() # instantiate prediction container\n",
    "    for (i in 1:lnTsDt) {\n",
    "        ## get the distances \n",
    "        nn <- as.data.frame(sort(dist_[i,], index.return = TRUE))[1:K, 2]\n",
    "\n",
    "        ## get the mean of the k nearest neigbours. \n",
    "        pred_[i] <- (mean(trainingLabels[nn]))\n",
    "    }\n",
    "    return(pred_)\n",
    "}"
   ]
  },
  {
   "cell_type": "code",
   "execution_count": 2,
   "metadata": {
    "collapsed": true
   },
   "outputs": [],
   "source": [
    "## Implement the bootstrap code.\n",
    "\n",
    "# Implement a bootstrap sampler.\n",
    "udf_bootstrapIndexer <- function(x = 100, sampleSize = x, times = 100, Seed = 1234) {\n",
    "    \n",
    "    # this function applies bootstrap sampling and returns a MATRIX OF INDICES with the sample pattern.\n",
    "\n",
    "    # develop container for matrices\n",
    "    index_ <- matrix(nrow = times, ncol = sampleSize)\n",
    "    set.seed(Seed)\n",
    "    for (t in 1:times) {\n",
    "        index_[t,] <- sample(x = x, size = sampleSize, replace = TRUE)\n",
    "\n",
    "    }\n",
    "    return(index_)\n",
    "}\n",
    "\n",
    "# Implement a bootstrap function to handle regression\n",
    "udf_knnBootstrapErr <- function(trData, trLabels, tsData, tsLabels, sampleSizeN = 25, timesL = 100, K = 1:20, Seed = 1234) {\n",
    "\n",
    "    # generate bootstrap indexes\n",
    "    indexes_ <- udf_bootstrapIndexer(nrow(trData), sampleSizeN, timesL, Seed)\n",
    "\n",
    "    # container\n",
    "    err_ <- data.frame('K' = 0, 'L' = 0, 'test' = rep(0, timesL * length(K)))\n",
    "\n",
    "    # instantiate iterator tracker\n",
    "    i <- 1\n",
    "    for (k in K) {\n",
    "\n",
    "        for (l in 1:timesL) {\n",
    "\n",
    "            #get the indices from the bootstrap sampling\n",
    "            index_ <- indexes_[l,]\n",
    "\n",
    "            # save the value of k & l\n",
    "            err_[i, 'K'] = k\n",
    "            err_[i, 'L'] = l\n",
    "\n",
    "            # calculate RMSE and store\n",
    "            err_[i, 'test'] <- udf_utils_rootMeanSquareError(udf_knn(trData[index_,], trLabels[index_], tsData[index_,], k), tsLabels[index_])\n",
    "\n",
    "            # increment iterator count.\n",
    "            i <- i + 1\n",
    "        }\n",
    "    }\n",
    "    return(err_)\n",
    "}\n"
   ]
  },
  {
   "cell_type": "markdown",
   "metadata": {},
   "source": [
    "#### II.\n",
    "Load Task1B_train.csv and Task1B_test.csv sets. Apply your bootstrapping for\n",
    "KNN regression with times = 100 (the number of subsets), size = 25 (the size of each\n",
    "subset), and change K=1,..,20 (the neighbourhood size). Now create a boxplot where\n",
    "the xaxis is K, and the yaxis is the average error (and the uncertainty around it)\n",
    "corresponding to each K. Save the plot as fig.1.b.1.pdf and attach it to your report."
   ]
  },
  {
   "cell_type": "code",
   "execution_count": 3,
   "metadata": {
    "collapsed": false
   },
   "outputs": [
    {
     "name": "stderr",
     "output_type": "stream",
     "text": [
      "Saving 7 x 7 in image\n"
     ]
    },
    {
     "data": {
      "image/png": "[encoded data removed]",
      "text/plain": [
       "plot without title"
      ]
     },
     "metadata": {
      "image/svg+xml": {
       "isolated": true
      }
     },
     "output_type": "display_data"
    }
   ],
   "source": [
    "# load datasets\n",
    "tr_dt <- read.csv(\"./assessments_datasets/Task1B_train.csv\")\n",
    "ts_dt <- read.csv(\"./assessments_datasets/Task1B_test.csv\")\n",
    "\n",
    "# subset training and test variables. (explicitly pass in labels)\n",
    "trainSet <- subset(tr_dt, select = -c(y))\n",
    "testSet <- subset(ts_dt, select = -c(y))\n",
    "\n",
    "#run bootstrap and get errors\n",
    "errs_ <- udf_knnBootstrapErr(trainSet, tr_dt$y, testSet, ts_dt$y, 25, 100)\n",
    "\n",
    "# melt the data frame\n",
    "errsMelt_ <- melt(errs_, id = c('K', 'L'))\n",
    "\n",
    "# recast names\n",
    "names(errsMelt_) <- c(\"K\", \"L\", \"type\", \"RMSE\")\n",
    "\n",
    "# make the plot\n",
    "ggplot(data = errsMelt_[errsMelt_$type == 'test',], aes(factor(K), RMSE, fill = type)) + geom_boxplot(outlier.shape = NA) + scale_color_discrete(guide = guide_legend(title = NULL)) + ggtitle('RMSE vs. K (Box Plot)') + theme_minimal()\n",
    "\n",
    "# save the plot\n",
    "ggsave(\"fig.1.b.1.pdf\", device = \"pdf\")"
   ]
  },
  {
   "cell_type": "markdown",
   "metadata": {},
   "source": [
    "#### III.\n",
    "Based on fig.1.b.1.pdf,how does the test error and its uncertainty behave as K\n",
    "increases?"
   ]
  },
  {
   "cell_type": "markdown",
   "metadata": {},
   "source": [
    "The error and the uncertainty in the error seems to be increasing as K is increasing."
   ]
  },
  {
   "cell_type": "markdown",
   "metadata": {},
   "source": [
    "#### IV.\n",
    "Load Task1B_train.csv and Task1B_test.csv sets. Apply your bootstrapping for\n",
    "KNN regression with K=10 (the neighbourhood size), size = 25 (the size of each\n",
    "subset), and change times = 10, 20, 30,.., 200 (the number of subsets). Now create a\n",
    "boxplot where the x-axis is ‘times’, and the y-axis is the average error (and the\n",
    "uncertainty around it) corresponding to each value of ‘times’. Save the plot as\n",
    "fig.1.b.2.pdf and attach it to your report.\n"
   ]
  },
  {
   "cell_type": "code",
   "execution_count": 4,
   "metadata": {
    "collapsed": true
   },
   "outputs": [],
   "source": [
    "# load datasets\n",
    "tr_dt <- read.csv(\"./assessments_datasets/Task1B_train.csv\")\n",
    "ts_dt <- read.csv(\"./assessments_datasets/Task1B_test.csv\")\n",
    "\n",
    "# subset training and test variables. (explicitly pass in labels)\n",
    "trainSet <- subset(tr_dt, select = -c(y))\n",
    "testSet <- subset(ts_dt, select = -c(y))"
   ]
  },
  {
   "cell_type": "code",
   "execution_count": 5,
   "metadata": {
    "collapsed": false
   },
   "outputs": [
    {
     "name": "stderr",
     "output_type": "stream",
     "text": [
      "Saving 7 x 7 in image\n"
     ]
    },
    {
     "data": {
      "image/png": "[encoded data removed]",
      "text/plain": [
       "plot without title"
      ]
     },
     "metadata": {
      "image/svg+xml": {
       "isolated": true
      }
     },
     "output_type": "display_data"
    }
   ],
   "source": [
    "# make our time sequence as per required.\n",
    "timesL <- seq(10, 200, 10)\n",
    "\n",
    "# container vector for generation of data frame/ \n",
    "timesVec <- c()\n",
    "\n",
    "# get iteration length\n",
    "for (i in timesL) {\n",
    "    for (ii in 1:i) {\n",
    "        timesVec <- append(timesVec,i)\n",
    "    }\n",
    "}\n",
    "\n",
    "# create a data frame with iteration length\n",
    "errs_ <- data.frame(\"times\" = timesVec, \"rmse\" = rep(0, length(timesVec)))\n",
    "\n",
    "# create an iterator for keeping track of rows.\n",
    "r <- 1\n",
    "\n",
    "\n",
    "for (i in timesL) {\n",
    "    # create bootstrap indexes with each size times l\n",
    "    indexes_ <- udf_bootstrapIndexer(nrow(trainSet), 25, i)\n",
    "    for (ii in 1:i) {\n",
    "        # make index\n",
    "        index_ <- indexes_[ii,]\n",
    "        # make predictions\n",
    "        preds_ <- udf_knn(trainSet[index_,], tr_dt$y[index_], testSet[index_,], K = 10)\n",
    "        # get the rmse\n",
    "        rmse_ <- udf_utils_rootMeanSquareError(preds_, ts_dt$y[index_])\n",
    "\n",
    "        # store it in teh dataframe\n",
    "        errs_[r, 'rmse'] <- rmse_\n",
    "\n",
    "        # increment iterator\n",
    "        r <- r + 1\n",
    "    }\n",
    "\n",
    "}\n",
    "\n",
    "\n",
    "errsMelt_ <- melt(errs_, id = c('times'))\n",
    "\n",
    "names(errsMelt_) <- c(\"times\", \"type\", \"RMSE\")\n",
    "\n",
    "# make the plot\n",
    "ggplot(data = errsMelt_[errsMelt_$type == 'rmse',], aes(factor(times), RMSE, fill = type)) + geom_boxplot(outlier.shape = NA) + scale_color_discrete(guide = guide_legend(title = NULL)) + ggtitle('RMSE vs. times (Box Plot)') + theme_minimal()\n",
    "\n",
    "# save the plot\n",
    "ggsave(\"fig.1.b.2.pdf\", device = \"pdf\")"
   ]
  },
  {
   "cell_type": "markdown",
   "metadata": {},
   "source": [
    "#### V.\n",
    "Based on fig.1.b.2.pdf,how does the test error and its uncertainty behave as the\n",
    "number of subsets in bootstrapping increases?"
   ]
  },
  {
   "cell_type": "markdown",
   "metadata": {},
   "source": [
    "It seems that the error seems to drop, but stabilises after the sampling time hits around 90. The uncertainty doesnt seem to be too greatly affected by this."
   ]
  },
  {
   "cell_type": "code",
   "execution_count": null,
   "metadata": {
    "collapsed": true
   },
   "outputs": [],
   "source": []
  }
 ],
 "metadata": {
  "kernelspec": {
   "display_name": "R",
   "language": "R",
   "name": "ir"
  },
  "language_info": {
   "codemirror_mode": "r",
   "file_extension": ".r",
   "mimetype": "text/x-r-source",
   "name": "R",
   "pygments_lexer": "r",
   "version": "3.3.0"
  }
 },
 "nbformat": 4,
 "nbformat_minor": 0
}
