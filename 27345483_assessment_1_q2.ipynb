{
 "cells": [
  {
   "cell_type": "markdown",
   "metadata": {},
   "source": [
    "# Assessment 1\n",
    "## Part A - Model Complexity and Model Selection\n",
    "### Question 2\n",
    "#### I\n",
    "Implement a K-Fold Cross Validation (CV) function for your KNN regressor:\n",
    "cv(train.data, train.label, numFold=10)\n",
    "which takes the training data and their labels (continuous values), the number of\n",
    "folds, and returns errors for different folds of the training data.\n"
   ]
  },
  {
   "cell_type": "code",
   "execution_count": 1,
   "metadata": {
    "collapsed": false
   },
   "outputs": [
    {
     "name": "stderr",
     "output_type": "stream",
     "text": [
      "Loading required package: ggplot2\n"
     ]
    }
   ],
   "source": [
    "# Load dependencies\n",
    "require(ggplot2)\n",
    "# Load utility functions\n",
    "\n",
    "udf_utils_castFlexibleDataFrame <- function(object) {\n",
    "\n",
    "    # Utility function that coerces vectors, dataframes, matrices and other enumerable types to data frame.\n",
    "\n",
    "    cNames_ <- colnames(object) # get object column names.\n",
    "    dfObj_ <- as.data.frame(object) # cast object as data frame.\n",
    "\n",
    "    if (is.null(cNames_)) {\n",
    "        # if no column names assign generic.\n",
    "        for (i in 1:length(dfObj_)) {\n",
    "            colnames(dfObj_)[i] <- paste0(\"c\", i)\n",
    "        }\n",
    "    }\n",
    "    return(dfObj_)\n",
    "}\n",
    "\n",
    "udf_utils_rootMeanSquareError <- function(predVals, actVals) {\n",
    "\n",
    "    # this function returns teh root mean square error of predicted values and actual values. \n",
    "\n",
    "    predVals <- udf_utils_castFlexibleDataFrame(predVals) \n",
    "    actVals <- udf_utils_castFlexibleDataFrame(actVals)\n",
    "\n",
    "    if (nrow(predVals) != nrow(actVals)) {\n",
    "        stop(\"differring predictions and actual values.\")\n",
    "    }\n",
    "\n",
    "    eW_ <- (sum((predVals - actVals) ^ 2)) / 2\n",
    "\n",
    "    eRMS_ <- sqrt(2 * (eW_) / nrow(predVals))\n",
    "\n",
    "    return(eRMS_)\n",
    "\n",
    "}\n",
    "\n",
    "udf_utils_checkLabelsObj <- function(labels) {\n",
    "\n",
    "    # utility function for checking label array object for comformance.\n",
    "\n",
    "    # for the regresser, we are looking for numeric types.\n",
    "    # handle data frames.\n",
    "    if (class(labels) == \"data.frame\") {\n",
    "        if (ncol(labels) == 1) {\n",
    "            # if dataframe object is passed, and has the length of one column, try cast as numeric.\n",
    "            # any non numeric characters will be forced NA. Error out.\n",
    "            suppressWarnings(labels <- as.numeric(labels))\n",
    "\n",
    "            # atthe risk of falling through many if conditions\n",
    "            if (sum(is.na(labels)) > 0) {\n",
    "                stop(\"Non numeric values found in label set. Non numerics cannot be implemented in regressor.\")\n",
    "            }\n",
    "        } else {\n",
    "            stop(\"labels must be a one dimensional array!\")\n",
    "        }\n",
    "    } else {\n",
    "        # if not data frame, \n",
    "        suppressWarnings(labels <- as.numeric(labels))\n",
    "\n",
    "        if (sum(is.na(labels)) > 0) {\n",
    "            stop(\"Non numeric values found in label set. Non numerics cannot be implemented in regressor.\")\n",
    "        }\n",
    "    }\n",
    "\n",
    "    return(labels)\n",
    "}\n",
    "\n",
    "udf_knn <- function(trainingSet, trainingLabels, testSet, K = 3) {\n",
    "\n",
    "    #store Lengths\n",
    "    lnTrDt <- nrow(as.data.frame(trainingSet)) # training data\n",
    "    lnTrLb <- nrow(as.data.frame(trainingLabels)) # training label\n",
    "    lnTsDt <- nrow(as.data.frame(testSet)) # test set data\n",
    "\n",
    "    # convert the passed in objects to data frames.\n",
    "    trainingSet <- udf_utils_castFlexibleDataFrame(trainingSet)\n",
    "    testSet <- udf_utils_castFlexibleDataFrame(testSet)\n",
    "\n",
    "    # check labels object conforms or force conform.\n",
    "    trainingLabels <- udf_utils_checkLabelsObj(trainingLabels)\n",
    "\n",
    "\n",
    "    # quick check to see nrows match\n",
    "    if (lnTrDt != lnTrLb) {\n",
    "        stop(\"lengths of training and test sets do not match!\")\n",
    "    }\n",
    "   \n",
    "    # calc distance matrix\n",
    "    \n",
    "    # subset the test set data points and their distance to the training set data points.\n",
    "    dist_ <- as.matrix(dist(rbind(testSet, trainingSet)))[1:lnTsDt, (lnTsDt + 1):(lnTsDt + lnTrDt)] \n",
    "\n",
    "    ## for each test sample...\n",
    "    pred_ <- as.numeric() # instantiate prediction container\n",
    "    for (i in 1:lnTsDt) {\n",
    "        ## get the distances \n",
    "        nn <- as.data.frame(sort(dist_[i,], index.return = TRUE))[1:K, 2]\n",
    "\n",
    "        ## get the mean of the k nearest neigbours. \n",
    "        pred_[i] <- (mean(trainingLabels[nn]))\n",
    "    }\n",
    "    return(pred_)\n",
    "}"
   ]
  },
  {
   "cell_type": "code",
   "execution_count": 2,
   "metadata": {
    "collapsed": false
   },
   "outputs": [
    {
     "data": {
      "text/html": [
       "<table>\n",
       "<thead><tr><th></th><th scope=col>KFold</th><th scope=col>RMSE</th></tr></thead>\n",
       "<tbody>\n",
       "\t<tr><th scope=row>1</th><td>1.000000</td><td>0.554166</td></tr>\n",
       "\t<tr><th scope=row>2</th><td>2.0000000</td><td>0.1533967</td></tr>\n",
       "\t<tr><th scope=row>3</th><td>3.0000000</td><td>0.7827036</td></tr>\n",
       "\t<tr><th scope=row>4</th><td>4.0000000</td><td>0.2392697</td></tr>\n",
       "\t<tr><th scope=row>5</th><td>5.0000000</td><td>0.9740252</td></tr>\n",
       "\t<tr><th scope=row>6</th><td>6.0000000</td><td>0.2478911</td></tr>\n",
       "\t<tr><th scope=row>7</th><td>7.0000000</td><td>0.6165631</td></tr>\n",
       "\t<tr><th scope=row>8</th><td>8.0000000</td><td>0.2702314</td></tr>\n",
       "\t<tr><th scope=row>9</th><td>9.0000000</td><td>0.9654763</td></tr>\n",
       "\t<tr><th scope=row>10</th><td>10.0000000</td><td> 0.3057777</td></tr>\n",
       "</tbody>\n",
       "</table>\n"
      ],
      "text/latex": [
       "\\begin{tabular}{r|ll}\n",
       "  & KFold & RMSE\\\\\n",
       "\\hline\n",
       "\t1 & 1.000000 & 0.554166\\\\\n",
       "\t2 & 2.0000000 & 0.1533967\\\\\n",
       "\t3 & 3.0000000 & 0.7827036\\\\\n",
       "\t4 & 4.0000000 & 0.2392697\\\\\n",
       "\t5 & 5.0000000 & 0.9740252\\\\\n",
       "\t6 & 6.0000000 & 0.2478911\\\\\n",
       "\t7 & 7.0000000 & 0.6165631\\\\\n",
       "\t8 & 8.0000000 & 0.2702314\\\\\n",
       "\t9 & 9.0000000 & 0.9654763\\\\\n",
       "\t10 & 10.0000000 &  0.3057777\\\\\n",
       "\\end{tabular}\n"
      ],
      "text/plain": [
       "   KFold      RMSE\n",
       "1      1 0.5541660\n",
       "2      2 0.1533967\n",
       "3      3 0.7827036\n",
       "4      4 0.2392697\n",
       "5      5 0.9740252\n",
       "6      6 0.2478911\n",
       "7      7 0.6165631\n",
       "8      8 0.2702314\n",
       "9      9 0.9654763\n",
       "10    10 0.3057777"
      ]
     },
     "metadata": {},
     "output_type": "display_data"
    }
   ],
   "source": [
    "# Implement the k-Fold cross validator function.\n",
    "udf_CrossValidation <- function(trainingData, trainingLabels, numFolds = 10, K = 3, Seed = 1234) {\n",
    "\n",
    "    # this is a cross validation function which returns the errors of different folds of the training data.\n",
    "\n",
    "    # comform dataframe\n",
    "    trainingData <- udf_utils_castFlexibleDataFrame(trainingData)\n",
    "    trainingLabels <- udf_utils_checkLabelsObj(trainingLabels)\n",
    "    \n",
    "    #get lengths\n",
    "    lnTrDt <- nrow(as.data.frame(trainingData)) # training data\n",
    "    lnTrLb <- nrow(as.data.frame(trainingLabels)) # training label\n",
    "\n",
    "    \n",
    "    # quick check to see nrows match\n",
    "    if (lnTrDt != lnTrLb) {\n",
    "        stop(\"lengths of training and test sets do not match!\")\n",
    "    }\n",
    "\n",
    "    # reindex data randomly\n",
    "    # set seed for reproducibility\n",
    "    set.seed(Seed)\n",
    "    index_ <- sample(1:lnTrDt)\n",
    "    # shuffle training and test sets\n",
    "    trainingData <- udf_utils_castFlexibleDataFrame(trainingData[index_,])\n",
    "    trainingLabels <- trainingLabels[index_]\n",
    "\n",
    "    # generate folds.\n",
    "    folds_ <- cut(seq(1:lnTrDt), breaks = numFolds, labels = FALSE)\n",
    "\n",
    "    # cast dataframe to store RMS.\n",
    "    errs_ <- data.frame(\"KFold\" = 1:numFolds, \"RMSE\" = rep(0, numFolds))\n",
    "\n",
    "\n",
    "    # run kNN\n",
    "    for (i in 1:numFolds) {\n",
    "\n",
    "        # get index of folds belonging to current fold\n",
    "        intern_index <- which(folds_ == i, arr.ind = TRUE) \n",
    "\n",
    "        #internal test data\n",
    "        intern_testData <- trainingData[intern_index,]\n",
    "        #internal test labels\n",
    "        intern_testLabels <- trainingLabels[intern_index]\n",
    "\n",
    "        #internal train data\n",
    "        intern_trainData <- trainingData[ - intern_index,]\n",
    "        #internal train labels\n",
    "        intern_trainLabels <- trainingLabels[ - intern_index]\n",
    "\n",
    "        #get kNN predictions\n",
    "        pred_ <- udf_knn(intern_trainData, intern_trainLabels, intern_testData, K = K)\n",
    "\n",
    "        # errs_[i, 'K-Fold'] <- i\n",
    "        errs_[i,'RMSE'] <- udf_utils_rootMeanSquareError(pred_,intern_testLabels)\n",
    "\n",
    "    }\n",
    "\n",
    "    return (errs_)\n",
    "\n",
    "\n",
    "}\n",
    "\n",
    "# Sample crossvalidate to test.\n",
    "\n",
    "# Read in the datasets.\n",
    "tr_dt <- read.csv(\"./assessments_datasets/Task1A_train.csv\")\n",
    "ts_dt <- read.csv(\"./assessments_datasets/Task1A_test.csv\")\n",
    "\n",
    "udf_CrossValidation(tr_dt$x1,tr_dt$y)\n"
   ]
  },
  {
   "cell_type": "markdown",
   "metadata": {},
   "source": [
    "#### II\n",
    "Using the training data, run your K­Fold CV where the numFold is set to 10. Change\n",
    "the value of K=1,..,20 and for each K compute the average 10 error numbers you\n",
    "have got. Plot the average error numbers versus 1/K for K=1,..,20. Further, add two\n",
    "dashed lines around the average error indicating the average +/- standard deviation\n",
    "of errors. Save the plot as fig.1.a.2.pdf a​nd attach it to your report."
   ]
  },
  {
   "cell_type": "code",
   "execution_count": 3,
   "metadata": {
    "collapsed": false
   },
   "outputs": [
    {
     "name": "stderr",
     "output_type": "stream",
     "text": [
      "Saving 7 x 7 in image\n"
     ]
    },
    {
     "data": {
      "image/png": "[encoded data removed]",
      "text/plain": [
       "plot without title"
      ]
     },
     "metadata": {
      "image/svg+xml": {
       "isolated": true
      }
     },
     "output_type": "display_data"
    }
   ],
   "source": [
    "# use a wrapper on the cross validation function which can do multiple K and return the averages. \n",
    "\n",
    "udf_multipleKCrossVal <- function(trainingData, trainingLabels, numFolds = 10, Seed = 1234, KMax = 20) {\n",
    "    \n",
    "    # wrapper function for doing CV on multiple K values.\n",
    "\n",
    "    # instantiate data frame to contain the average of 10 error numbers.\n",
    "    err_ <- data.frame('K' = 1:KMax, 'AvgError' = rep(0, KMax), 'stDev' = rep(0,KMax) ,'minStDev' = rep(0, KMax), 'maxStDev' = rep(0, KMax))\n",
    "        \n",
    "    # iterate through k and get the average errors\n",
    "    for (k in 1:KMax) {\n",
    "\n",
    "        # get the average error.\n",
    "        errMean_ <- mean(udf_CrossValidation(trainingData, trainingLabels, numFolds, Seed, K = k)$RMSE)\n",
    "        \n",
    "        # n.b we are using $ notation here since this is a wrapper function and only usable with this specific cross validation function.\n",
    "\n",
    "        # get the sd\n",
    "        stDev_ <- sd(udf_CrossValidation(trainingData, trainingLabels, numFolds, Seed, K = k)$RMSE)\n",
    "\n",
    "        # check if the mean or Sd < 0 and error our\n",
    "\n",
    "        if (errMean_ < 0 | stDev_ < 0) {\n",
    "            stop(\"Mean or standard deviation is < 0, something is wrong!\")\n",
    "        }\n",
    "\n",
    "        # fill data frame\n",
    "        err_[k, 'AvgError'] <- errMean_\n",
    "        err_[k, 'stDev'] <- stDev_\n",
    "        err_[k, 'minStDev'] <- errMean_ - stDev_\n",
    "        err_[k, 'maxStDev'] <- errMean_ + stDev_\n",
    "                        \n",
    "    }\n",
    "    \n",
    "    return(err_)\n",
    "}\n",
    "\n",
    "# run an instance.\n",
    "errs_ <- udf_multipleKCrossVal(tr_dt$x1, tr_dt$y)\n",
    "\n",
    "# plot the graph\n",
    "ggplot(data = errs_, aes(1 / K)) + geom_line(aes(y = AvgError, colour = \"Average Error\")) + geom_line(aes(y = minStDev, colour = \"Error Bounds\"), linetype = 2) + geom_line(aes(y = maxStDev, colour = \"Error Bounds\"), linetype = 2) + ggtitle(\"Average RMSE cross-validation vs K\") + xlab(\"1/K\") + ylab(\"Average RMSE\") + labs(colour = \"\")\n",
    "\n",
    "# save the plot\n",
    "ggsave(\"fig.1.a.2.pdf\", device = \"pdf\")"
   ]
  },
  {
   "cell_type": "markdown",
   "metadata": {},
   "source": [
    "#### III.\n",
    "Report the values of K that result to minimum average error and minimum standard\n",
    "deviation of errors based on your cross validation plot in fig.1.a.2.pdf."
   ]
  },
  {
   "cell_type": "code",
   "execution_count": 4,
   "metadata": {
    "collapsed": false
   },
   "outputs": [
    {
     "data": {
      "text/html": [
       "\"K of minimum average error: 4\""
      ],
      "text/latex": [
       "\"K of minimum average error: 4\""
      ],
      "text/markdown": [
       "\"K of minimum average error: 4\""
      ],
      "text/plain": [
       "[1] \"K of minimum average error: 4\""
      ]
     },
     "metadata": {},
     "output_type": "display_data"
    },
    {
     "data": {
      "text/html": [
       "\"K of minimum standard deviation of error: 2\""
      ],
      "text/latex": [
       "\"K of minimum standard deviation of error: 2\""
      ],
      "text/markdown": [
       "\"K of minimum standard deviation of error: 2\""
      ],
      "text/plain": [
       "[1] \"K of minimum standard deviation of error: 2\""
      ]
     },
     "metadata": {},
     "output_type": "display_data"
    }
   ],
   "source": [
    "# Report K with min avg RMSE and min sd RMSE\n",
    "paste(\"K of minimum average error:\",errs_[errs_$AvgError == min(errs_$AvgError), 'K'])\n",
    "paste(\"K of minimum standard deviation of error:\",errs_[errs_$stDev == min(errs_$stDev),'K'])"
   ]
  },
  {
   "cell_type": "code",
   "execution_count": null,
   "metadata": {
    "collapsed": true
   },
   "outputs": [],
   "source": []
  }
 ],
 "metadata": {
  "kernelspec": {
   "display_name": "R",
   "language": "R",
   "name": "ir"
  },
  "language_info": {
   "codemirror_mode": "r",
   "file_extension": ".r",
   "mimetype": "text/x-r-source",
   "name": "R",
   "pygments_lexer": "r",
   "version": "3.3.0"
  }
 },
 "nbformat": 4,
 "nbformat_minor": 0
}
