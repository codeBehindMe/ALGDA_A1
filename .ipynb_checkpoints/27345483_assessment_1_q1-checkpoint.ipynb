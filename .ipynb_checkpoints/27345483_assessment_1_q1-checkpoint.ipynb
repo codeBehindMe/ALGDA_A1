{
 "cells": [
  {
   "cell_type": "markdown",
   "metadata": {},
   "source": [
    "# Assignment 1\n",
    "## Part A - Model Complexity and Model Selection\n",
    "### Question 1\n",
    "#### I.\n",
    "Implement the KNN regressor function:\n",
    "knn(train.data, train.label, test.data, K=3)\n",
    "which takes the training data and their labels (continuous values), the test set, and\n",
    "the size of the neighborhood (K). It should return the regressed values for the test\n",
    "data points. When choosing the neighbors, you can use the Euclidean distance\n",
    "function to measure the distance between a pair of data points.\n",
    "Hint:​You are allowed to use KNN classifier code from Activity 1 of Module 1."
   ]
  },
  {
   "cell_type": "code",
   "execution_count": 1,
   "metadata": {
    "collapsed": false
   },
   "outputs": [
    {
     "name": "stderr",
     "output_type": "stream",
     "text": [
      "Loading required package: ggplot2\n"
     ]
    }
   ],
   "source": [
    "## Load any required backages.\n",
    "require(ggplot2)\n",
    "\n",
    "## Load utility functions.\n",
    "\n",
    "udf_utils_castFlexibleDataFrame <- function(object) {\n",
    "\n",
    "    # Utility function that coerces vectors, dataframes, matrices and other enumerable types to data frame.\n",
    "\n",
    "    cNames_ <- colnames(object) # get object column names.\n",
    "    dfObj_ <- as.data.frame(object) # cast object as data frame.\n",
    "\n",
    "    if (is.null(cNames_)) {\n",
    "        # if no column names assign generic.\n",
    "        for (i in 1:length(dfObj_)) {\n",
    "            colnames(dfObj_)[i] <- paste0(\"c\", i)\n",
    "        }\n",
    "    }\n",
    "    return(dfObj_)\n",
    "}\n",
    "\n",
    "udf_utils_rootMeanSquareError <- function(predVals, actVals) {\n",
    "\n",
    "    # this function returns teh root mean square error of predicted values and actual values. \n",
    "\n",
    "    predVals <- udf_utils_castFlexibleDataFrame(predVals) \n",
    "    actVals <- udf_utils_castFlexibleDataFrame(actVals)\n",
    "\n",
    "    if (nrow(predVals) != nrow(actVals)) {\n",
    "        stop(\"differring predictions and actual values.\")\n",
    "    }\n",
    "\n",
    "    eW_ <- (sum((predVals - actVals) ^ 2)) / 2\n",
    "\n",
    "    eRMS_ <- sqrt((2 * eW_) / nrow(predVals))\n",
    "\n",
    "    return(eRMS_)\n",
    "\n",
    "}\n",
    "\n",
    "udf_utils_checkLabelsObj <- function(labels) {\n",
    "\n",
    "    # utility function for checking label array object for comformance.\n",
    "\n",
    "    # for the regresser, we are looking for numeric types.\n",
    "    # handle data frames.\n",
    "    if (class(labels) == \"data.frame\") {\n",
    "        if (ncol(labels) == 1) {\n",
    "            # if dataframe object is passed, and has the length of one column, try cast as numeric.\n",
    "            # any non numeric characters will be forced NA. Error out.\n",
    "            suppressWarnings(labels <- as.numeric(labels))\n",
    "\n",
    "            # atthe risk of falling through many if conditions\n",
    "            if (sum(is.na(labels)) > 0) {\n",
    "                stop(\"Non numeric values found in label set. Non numerics cannot be implemented in regressor.\")\n",
    "            }\n",
    "        } else {\n",
    "            stop(\"labels must be a one dimensional array!\")\n",
    "        }\n",
    "    } else {\n",
    "        # if not data frame, \n",
    "        suppressWarnings(labels <- as.numeric(labels))\n",
    "\n",
    "        if (sum(is.na(labels)) > 0) {\n",
    "            stop(\"Non numeric values found in label set. Non numerics cannot be implemented in regressor.\")\n",
    "        }\n",
    "    }\n",
    "\n",
    "    return(labels)\n",
    "}"
   ]
  },
  {
   "cell_type": "code",
   "execution_count": 2,
   "metadata": {
    "collapsed": false
   },
   "outputs": [
    {
     "name": "stdout",
     "output_type": "stream",
     "text": [
      "'data.frame':\t42 obs. of  2 variables:\n",
      " $ x1: num  1960 1960 1961 1962 1962 ...\n",
      " $ y : num  0.71 0.85 0.61 0.92 0.72 0.92 0.83 1 0.92 1.24 ...\n",
      "'data.frame':\t42 obs. of  2 variables:\n",
      " $ x1: num  1960 1961 1961 1962 1962 ...\n",
      " $ y : num  0.63 0.44 0.69 0.55 0.77 0.6 0.8 0.77 1 1 ...\n"
     ]
    }
   ],
   "source": [
    "# Read in the datasets.\n",
    "tr_dt <- read.csv(\"./assessments_datasets/Task1A_train.csv\")\n",
    "ts_dt <- read.csv(\"./assessments_datasets/Task1A_test.csv\")\n",
    "\n",
    "# look at the structure\n",
    "str(tr_dt)\n",
    "str(ts_dt)"
   ]
  },
  {
   "cell_type": "code",
   "execution_count": 3,
   "metadata": {
    "collapsed": true
   },
   "outputs": [],
   "source": [
    "# Implement the KNN regressor function.\n",
    "udf_knn <- function(trainingSet, trainingLabels, testSet, K = 3) {\n",
    "\n",
    "    #store Lengths\n",
    "    lnTrDt <- nrow(as.data.frame(trainingSet)) # training data\n",
    "    lnTrLb <- nrow(as.data.frame(trainingLabels)) # training label\n",
    "    lnTsDt <- nrow(as.data.frame(testSet)) # test set data\n",
    "\n",
    "    # convert the passed in objects to data frames.\n",
    "    trainingSet <- udf_utils_castFlexibleDataFrame(trainingSet)\n",
    "    testSet <- udf_utils_castFlexibleDataFrame(testSet)\n",
    "\n",
    "    # check labels object conforms or force conform.\n",
    "    trainingLabels <- udf_utils_checkLabelsObj(trainingLabels)\n",
    "\n",
    "\n",
    "    # quick check to see nrows match\n",
    "    if (lnTrDt != lnTrLb) {\n",
    "        stop(\"lengths of training and test sets do not match!\")\n",
    "    }\n",
    "   \n",
    "    # calc distance matrix\n",
    "    \n",
    "    # subset the test set data points and their distance to the training set data points.\n",
    "    dist_ <- as.matrix(dist(rbind(testSet, trainingSet)))[1:lnTsDt, (lnTsDt + 1):(lnTsDt + lnTrDt)] \n",
    "\n",
    "    ## for each test sample...\n",
    "    pred_ <- as.numeric() # instantiate prediction container\n",
    "    for (i in 1:lnTsDt) {\n",
    "        ## get the distances \n",
    "        nn <- as.data.frame(sort(dist_[i,], index.return = TRUE))[1:K, 2]\n",
    "\n",
    "        ## get the mean of the k nearest neigbours. \n",
    "        pred_[i] <- (mean(trainingLabels[nn]))\n",
    "    }\n",
    "    return(pred_)\n",
    "}"
   ]
  },
  {
   "cell_type": "code",
   "execution_count": 4,
   "metadata": {
    "collapsed": false
   },
   "outputs": [
    {
     "data": {
      "text/html": [
       "<ol class=list-inline>\n",
       "\t<li>0.723333333333333</li>\n",
       "\t<li>0.723333333333333</li>\n",
       "\t<li>0.793333333333333</li>\n",
       "\t<li>0.75</li>\n",
       "\t<li>0.853333333333333</li>\n",
       "\t<li>0.823333333333333</li>\n",
       "\t<li>0.916666666666667</li>\n",
       "\t<li>0.916666666666667</li>\n",
       "\t<li>1.05333333333333</li>\n",
       "\t<li>1.10666666666667</li>\n",
       "\t<li>1.28333333333333</li>\n",
       "\t<li>1.29</li>\n",
       "\t<li>1.52333333333333</li>\n",
       "\t<li>1.55</li>\n",
       "\t<li>1.74</li>\n",
       "\t<li>1.63</li>\n",
       "\t<li>1.9</li>\n",
       "\t<li>2.01</li>\n",
       "\t<li>2.4</li>\n",
       "\t<li>2.55</li>\n",
       "\t<li>3.06</li>\n",
       "\t<li>3.36</li>\n",
       "\t<li>3.87</li>\n",
       "\t<li>4.26</li>\n",
       "\t<li>4.74</li>\n",
       "\t<li>5.16</li>\n",
       "\t<li>5.73</li>\n",
       "\t<li>6.06</li>\n",
       "\t<li>6.51</li>\n",
       "\t<li>6.63</li>\n",
       "\t<li>7.23</li>\n",
       "\t<li>7.5</li>\n",
       "\t<li>7.95</li>\n",
       "\t<li>8.52</li>\n",
       "\t<li>9.12</li>\n",
       "\t<li>10.32</li>\n",
       "\t<li>11.19</li>\n",
       "\t<li>12.69</li>\n",
       "\t<li>13.68</li>\n",
       "\t<li>15.03</li>\n",
       "\t<li>15.69</li>\n",
       "\t<li>15.69</li>\n",
       "</ol>\n"
      ],
      "text/latex": [
       "\\begin{enumerate*}\n",
       "\\item 0.723333333333333\n",
       "\\item 0.723333333333333\n",
       "\\item 0.793333333333333\n",
       "\\item 0.75\n",
       "\\item 0.853333333333333\n",
       "\\item 0.823333333333333\n",
       "\\item 0.916666666666667\n",
       "\\item 0.916666666666667\n",
       "\\item 1.05333333333333\n",
       "\\item 1.10666666666667\n",
       "\\item 1.28333333333333\n",
       "\\item 1.29\n",
       "\\item 1.52333333333333\n",
       "\\item 1.55\n",
       "\\item 1.74\n",
       "\\item 1.63\n",
       "\\item 1.9\n",
       "\\item 2.01\n",
       "\\item 2.4\n",
       "\\item 2.55\n",
       "\\item 3.06\n",
       "\\item 3.36\n",
       "\\item 3.87\n",
       "\\item 4.26\n",
       "\\item 4.74\n",
       "\\item 5.16\n",
       "\\item 5.73\n",
       "\\item 6.06\n",
       "\\item 6.51\n",
       "\\item 6.63\n",
       "\\item 7.23\n",
       "\\item 7.5\n",
       "\\item 7.95\n",
       "\\item 8.52\n",
       "\\item 9.12\n",
       "\\item 10.32\n",
       "\\item 11.19\n",
       "\\item 12.69\n",
       "\\item 13.68\n",
       "\\item 15.03\n",
       "\\item 15.69\n",
       "\\item 15.69\n",
       "\\end{enumerate*}\n"
      ],
      "text/markdown": [
       "1. 0.723333333333333\n",
       "2. 0.723333333333333\n",
       "3. 0.793333333333333\n",
       "4. 0.75\n",
       "5. 0.853333333333333\n",
       "6. 0.823333333333333\n",
       "7. 0.916666666666667\n",
       "8. 0.916666666666667\n",
       "9. 1.05333333333333\n",
       "10. 1.10666666666667\n",
       "11. 1.28333333333333\n",
       "12. 1.29\n",
       "13. 1.52333333333333\n",
       "14. 1.55\n",
       "15. 1.74\n",
       "16. 1.63\n",
       "17. 1.9\n",
       "18. 2.01\n",
       "19. 2.4\n",
       "20. 2.55\n",
       "21. 3.06\n",
       "22. 3.36\n",
       "23. 3.87\n",
       "24. 4.26\n",
       "25. 4.74\n",
       "26. 5.16\n",
       "27. 5.73\n",
       "28. 6.06\n",
       "29. 6.51\n",
       "30. 6.63\n",
       "31. 7.23\n",
       "32. 7.5\n",
       "33. 7.95\n",
       "34. 8.52\n",
       "35. 9.12\n",
       "36. 10.32\n",
       "37. 11.19\n",
       "38. 12.69\n",
       "39. 13.68\n",
       "40. 15.03\n",
       "41. 15.69\n",
       "42. 15.69\n",
       "\n",
       "\n"
      ],
      "text/plain": [
       " [1]  0.7233333  0.7233333  0.7933333  0.7500000  0.8533333  0.8233333\n",
       " [7]  0.9166667  0.9166667  1.0533333  1.1066667  1.2833333  1.2900000\n",
       "[13]  1.5233333  1.5500000  1.7400000  1.6300000  1.9000000  2.0100000\n",
       "[19]  2.4000000  2.5500000  3.0600000  3.3600000  3.8700000  4.2600000\n",
       "[25]  4.7400000  5.1600000  5.7300000  6.0600000  6.5100000  6.6300000\n",
       "[31]  7.2300000  7.5000000  7.9500000  8.5200000  9.1200000 10.3200000\n",
       "[37] 11.1900000 12.6900000 13.6800000 15.0300000 15.6900000 15.6900000"
      ]
     },
     "metadata": {},
     "output_type": "display_data"
    }
   ],
   "source": [
    "# make a sample prediction.\n",
    "# we can explicityly pass in the training column since theres is only 1.\n",
    "udf_knn(tr_dt$x1, tr_dt$y, ts_dt$x1, 3)"
   ]
  },
  {
   "cell_type": "markdown",
   "metadata": {},
   "source": [
    "#### II\n",
    "Plot the training and the testing errors versus 1/K for K=1,..,20 in one plot, using the\n",
    "Task1A_train.csv and Task1A_test.csv datasets provided for this assignment.\n",
    "Save the plot as fig.1.a.1.pdf and attach it to your report."
   ]
  },
  {
   "cell_type": "code",
   "execution_count": 5,
   "metadata": {
    "collapsed": false
   },
   "outputs": [
    {
     "name": "stderr",
     "output_type": "stream",
     "text": [
      "Saving 7 x 7 in image\n"
     ]
    },
    {
     "data": {
      "image/png": "[encoded data removed]",
      "text/plain": [
       "plot without title"
      ]
     },
     "metadata": {
      "image/svg+xml": {
       "isolated": true
      }
     },
     "output_type": "display_data"
    }
   ],
   "source": [
    "# Develop a function for iterating K and returing a dF with the RMSE and K\n",
    "\n",
    "udf_knnErrors <- function(trainingSet, trainingLabels, testSet, testLabels, Kmax = 20) {\n",
    "    # function takes training and test set data along with maximum K value and returns the RMSE of the test and training sets.\n",
    "\n",
    "    # convert the passed in objects to data frames.\n",
    "    trainingSet <- udf_utils_castFlexibleDataFrame(trainingSet)\n",
    "    testSet <- udf_utils_castFlexibleDataFrame(testSet)\n",
    "\n",
    "    # check labels object conforms or force conform.\n",
    "    trainingLabels <- udf_utils_checkLabelsObj(trainingLabels)\n",
    "    testLabels <- udf_utils_checkLabelsObj(testLabels)\n",
    "\n",
    "    # Instantiate container for errors.\n",
    "    err_ <- data.frame('K' = 1:Kmax, 'train' = rep(0, Kmax), 'test' = rep(0, Kmax))\n",
    "\n",
    "    for (k in 1:Kmax) {\n",
    "\n",
    "        # for each k, append training set RMSE value. \n",
    "        err_[k, 'train'] <- udf_utils_rootMeanSquareError(udf_knn(trainingSet, trainingLabels, trainingSet, k),trainingLabels)\n",
    "\n",
    "        # for each k, append test set RMSE value. \n",
    "        err_[k, 'test'] <- udf_utils_rootMeanSquareError(udf_knn(trainingSet, trainingLabels, testSet, k),testLabels)\n",
    "\n",
    "    }\n",
    "    return(err_)\n",
    "}\n",
    "\n",
    "# get the errors K= 1:20\n",
    "errs_ <- udf_knnErrors(tr_dt$x1, tr_dt$y, ts_dt$x1, ts_dt$y)\n",
    "# plot\n",
    "ggplot(data = errs_, aes(1 / K)) + geom_line(aes(y = train, colour = \"train\")) + geom_line(aes(y = test, colour = \"test\")) + ggtitle(\"Error RMS\") + xlab(\"1/K\") + ylab(\"RMSE\") +labs(colour = \"Dataset\")\n",
    "\n",
    "# save file.\n",
    "ggsave(\"fig.1.a.1.pdf\", device = \"pdf\")"
   ]
  },
  {
   "cell_type": "markdown",
   "metadata": {},
   "source": [
    "#### III\n",
    "Report the optimum value for K in terms of the testing error. Discuss the values of K\n",
    "corresponding to underfitting and overfitting based on your plot in fig.1.a.1.pdf"
   ]
  },
  {
   "cell_type": "code",
   "execution_count": 6,
   "metadata": {
    "collapsed": false
   },
   "outputs": [
    {
     "data": {
      "text/html": [
       "11"
      ],
      "text/latex": [
       "11"
      ],
      "text/markdown": [
       "11"
      ],
      "text/plain": [
       "[1] 11"
      ]
     },
     "metadata": {},
     "output_type": "display_data"
    }
   ],
   "source": [
    "# The optimum value for K is the global minimum for the test data set. Recover this\n",
    "errs_[errs_$test == min(errs_$test), 'K']"
   ]
  },
  {
   "cell_type": "markdown",
   "metadata": {},
   "source": [
    "It is to be noted that as K approaches 1, the model's statistical complexity increases. From the above figure it is evident that the optimum k for the model performance is 11. \n",
    "For K greater than 11, the model would be too insensitive (underfit) to make as useful predictions. \n",
    "For K smaller than 11, the model would be focused on the inherent noise and asystematic features of the training dataset, which would result in the model \"remembering\" rather than \"learning\", i.e. overfitting."
   ]
  },
  {
   "cell_type": "code",
   "execution_count": null,
   "metadata": {
    "collapsed": true
   },
   "outputs": [],
   "source": []
  }
 ],
 "metadata": {
  "kernelspec": {
   "display_name": "R",
   "language": "R",
   "name": "ir"
  },
  "language_info": {
   "codemirror_mode": "r",
   "file_extension": ".r",
   "mimetype": "text/x-r-source",
   "name": "R",
   "pygments_lexer": "r",
   "version": "3.3.0"
  }
 },
 "nbformat": 4,
 "nbformat_minor": 0
}
